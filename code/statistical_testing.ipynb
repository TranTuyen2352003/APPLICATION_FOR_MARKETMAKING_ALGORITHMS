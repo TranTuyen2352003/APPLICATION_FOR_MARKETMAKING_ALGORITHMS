{
 "cells": [
  {
   "cell_type": "markdown",
   "metadata": {},
   "source": [
    "# Statistical Testing"
   ]
  },
  {
   "cell_type": "markdown",
   "metadata": {},
   "source": [
    "Kiểm tra dữ liệu giá tài sản có xu hướng quay về mức trung bình sau các biến động ngắn hạn hay không (tính dừng)"
   ]
  },
  {
   "cell_type": "markdown",
   "metadata": {},
   "source": [
    "## Import module"
   ]
  },
  {
   "cell_type": "code",
   "execution_count": null,
   "metadata": {},
   "outputs": [],
   "source": [
    "from statsmodels.tsa.stattools import adfuller\n",
    "import pandas as pd   \n",
    "import numpy as np"
   ]
  },
  {
   "cell_type": "markdown",
   "metadata": {},
   "source": [
    "## 1. Augmented Dickey-Fuller Test"
   ]
  },
  {
   "cell_type": "markdown",
   "metadata": {},
   "source": [
    "**Augmented Dickey-Fuller (ADF) Test** là một phương pháp thống kê được sử dụng để kiểm tra tính dừng (stationarity) của một chuỗi thời gian.\n",
    "- Một chuỗi thời gian được coi là dừng nếu các thuộc tính thống kê của nó (như trung bình, phương sai) không thay đổi theo thời gian. Điều này có nghĩa là các giá trị trong chuỗi không có xu hướng tăng hoặc giảm theo thời gian. Nếu một chuỗi là mean-reverting, nó thường có tính dừng.\n",
    "- Các bước kiểm định ADF:\n",
    "    - **Tính toán giá trị thống kê ADF (ADF Statistic)**: Đo lường sự thay đổi của chuỗi thời gian dựa trên độ lệch của các giá trị trước đó.\n",
    "    - **Xác định p-value**\n",
    "    - **Kết quả**:\n",
    "        - Nếu p-value < 𝛼 (0.05), ta sẽ bác bỏ giả thuyết H0 (chuỗi có tính dừng).\n",
    "        - Nếu p-value >  𝛼 (0.05) , không thể bác bỏ giả thuyết H0 (chuỗi có thể không dừng)."
   ]
  },
  {
   "cell_type": "code",
   "execution_count": null,
   "metadata": {},
   "outputs": [],
   "source": [
    "df_ohc = pd.read_csv('/content/openhighclose_ETHUSDT_7d.csv')\n",
    "df_ohc['start_at'] = pd.to_datetime(df_ohc['start_at'], unit='s')\n",
    "df_stat = df_ohc.copy()\n",
    "\n",
    "# Bước 1: Tính toán log returns từ cột close\n",
    "df_stat['log_return'] = np.log(df_stat['close'] / df_stat['close'].shift(1))\n",
    "\n",
    "# Áp dụng trung bình trượt 3 kỳ để làm mịn log returns\n",
    "df_stat['log_return'] = df_stat['log_return'].rolling(window=3, center=True).mean()\n",
    "df_stat = df_stat.dropna(subset=['log_return'])"
   ]
  },
  {
   "cell_type": "code",
   "execution_count": null,
   "metadata": {},
   "outputs": [
    {
     "name": "stdout",
     "output_type": "stream",
     "text": [
      "ADF Statistic: -15.528754953255493\n",
      "p_value: 2.2345676828495575e-28\n"
     ]
    }
   ],
   "source": [
    "#Kiểm tra tính dừng\n",
    "\n",
    "result = adfuller(df_stat['log_return'].dropna())\n",
    "\n",
    "print(f'ADF Statistic: {result[0]}')\n",
    "print(f'p_value: {result[1]}')"
   ]
  },
  {
   "cell_type": "markdown",
   "metadata": {},
   "source": [
    "p_value < 0.05 => dữ liệu có tính dừng. Nó là chuỗi không tăng ko giảm, có thể áp dụng O-U model"
   ]
  },
  {
   "cell_type": "markdown",
   "metadata": {},
   "source": [
    "## 2. Hurst Exponent"
   ]
  },
  {
   "cell_type": "markdown",
   "metadata": {},
   "source": [
    "Hurst Exponent (H) giúp xác định đặc tính của chuỗi thời gian:\n",
    "- Nếu 𝐻 ≈ 0.5, chuỗi là ngẫu nhiên (Brownian motion)\n",
    "- Nếu H < 0.5, chuỗi có xu hướng mean reversion\n",
    "- Nếu H > 0.5, chuỗi có xu hướng tự khuếch đại (trending)."
   ]
  },
  {
   "cell_type": "code",
   "execution_count": null,
   "metadata": {},
   "outputs": [],
   "source": [
    "# Loại bỏ giá trị trùng lặp\n",
    "df_stat['log_return'] = df_stat['log_return'].drop_duplicates()\n",
    "\n",
    "# Loại bỏ giá trị bằng 0 hoặc âm (nếu có)\n",
    "df_stat['log_return'] = df_stat['log_return'][df_stat['log_return'] > 0]\n",
    "\n",
    "df_stat['close_smooth'] = df_stat['log_return'].rolling(window=3).mean()\n",
    "df_stat['close_shifted'] = df_stat['log_return'] + 1e-5  # Dịch lên 0.00001"
   ]
  },
  {
   "cell_type": "code",
   "execution_count": null,
   "metadata": {},
   "outputs": [
    {
     "name": "stdout",
     "output_type": "stream",
     "text": [
      "Có giá trị 0 trong tau, không thể lấy log.\n",
      "Hurst Exponent: nan\n",
      "Chuỗi có xu hướng bền vững\n"
     ]
    }
   ],
   "source": [
    "def hurst_exponent(ts, max_lag=20):\n",
    "    lags = range(2, max_lag)\n",
    "    tau = [np.std(np.subtract(ts[lag:], ts[:-lag])) for lag in lags]\n",
    "\n",
    "    # Kiểm tra giá trị của tau\n",
    "    if any(t == 0 for t in tau):\n",
    "        print(\"Có giá trị 0 trong tau, không thể lấy log.\")\n",
    "        return np.nan\n",
    "\n",
    "    reg = np.polyfit(np.log(lags), np.log(tau), 1)\n",
    "    return reg[0] * 2.0\n",
    "\n",
    "\n",
    "hurst = hurst_exponent(df_stat[\"close_shifted\"].dropna())\n",
    "print(f'Hurst Exponent: {hurst}')\n",
    "\n",
    "if hurst < 0.5:\n",
    "    print('Chuỗi có xu hướng mean-reverting')\n",
    "elif hurst == 0.5:\n",
    "    print('Chuỗi có tính ngẫu nhiên')\n",
    "else:\n",
    "    print(\"Chuỗi có xu hướng bền vững\")"
   ]
  },
  {
   "cell_type": "markdown",
   "metadata": {},
   "source": [
    "**Nguyên nhân nan**: là do dữ liệu có độ biến động rất nhỏ giữa các giá trị nên chưa thế mô phỏng theo Hurst được."
   ]
  }
 ],
 "metadata": {
  "language_info": {
   "name": "python"
  }
 },
 "nbformat": 4,
 "nbformat_minor": 2
}
