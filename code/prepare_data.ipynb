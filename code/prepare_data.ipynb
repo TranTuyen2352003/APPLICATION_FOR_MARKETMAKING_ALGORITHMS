{
 "cells": [
  {
   "cell_type": "markdown",
   "metadata": {},
   "source": [
    "# Prepare data OrderBook "
   ]
  },
  {
   "cell_type": "markdown",
   "metadata": {},
   "source": [
    "Chỉ lấy top 5 mức giá mua, bán cao nhất trong mỗi phút cùng với khối lượng tương ứng. \n",
    "Cấu hình server có hạn, code bên dưới dùng để chuyển đổi data orderbook riêng biệt cho từng ngày"
   ]
  },
  {
   "cell_type": "markdown",
   "metadata": {},
   "source": [
    "# Import modules"
   ]
  },
  {
   "cell_type": "code",
   "execution_count": null,
   "metadata": {
    "execution": {
     "iopub.execute_input": "2024-12-18T04:46:11.287661Z",
     "iopub.status.busy": "2024-12-18T04:46:11.287198Z",
     "iopub.status.idle": "2024-12-18T04:46:11.726094Z",
     "shell.execute_reply": "2024-12-18T04:46:11.724898Z",
     "shell.execute_reply.started": "2024-12-18T04:46:11.287589Z"
    },
    "id": "yYa0Z1fM2s9L",
    "outputId": "bb50f0bb-2107-4423-ab2d-b36d8b60a3c6",
    "trusted": true
   },
   "outputs": [],
   "source": [
    "import numpy as np\n",
    "import matplotlib.pyplot as plt\n",
    "import pandas as pd\n",
    "import csv\n",
    "import json"
   ]
  },
  {
   "cell_type": "markdown",
   "metadata": {},
   "source": [
    "# Chuyển file json sang csv"
   ]
  },
  {
   "cell_type": "code",
   "execution_count": null,
   "metadata": {
    "execution": {
     "iopub.execute_input": "2024-12-18T04:46:22.519122Z",
     "iopub.status.busy": "2024-12-18T04:46:22.518630Z",
     "iopub.status.idle": "2024-12-18T04:46:36.620689Z",
     "shell.execute_reply": "2024-12-18T04:46:36.619455Z",
     "shell.execute_reply.started": "2024-12-18T04:46:22.519086Z"
    },
    "id": "LmFlZed0L_Ac",
    "trusted": true
   },
   "outputs": [],
   "source": [
    "# Đường dẫn tới file .data\n",
    "input_file = \"/kaggle/input/ethusdt-orderbook-2024-01/2024-01-04_ETHUSDT_ob500.data/2024-01-04_ETHUSDT_ob500.data\"\n",
    "# Đường dẫn tới file .txt\n",
    "output_file = \"2024-01-04_ETHUSDT_ob500.txt\"\n",
    "\n",
    "# Đọc nội dung từ file .data và ghi vào file .txt\n",
    "with open(input_file, \"r\") as infile, open(output_file, \"w\") as outfile:\n",
    "    data = infile.read()\n",
    "    outfile.write(data)\n",
    "\n",
    "print(f\"Chuyển đổi hoàn tất! File đã được lưu với tên '{output_file}'.\")"
   ]
  },
  {
   "cell_type": "code",
   "execution_count": null,
   "metadata": {
    "execution": {
     "iopub.execute_input": "2024-12-18T04:46:36.623527Z",
     "iopub.status.busy": "2024-12-18T04:46:36.623040Z"
    },
    "trusted": true
   },
   "outputs": [],
   "source": [
    "# Đọc dữ liệu từ file .txt\n",
    "input_file = \"/kaggle/working/2024-01-04_ETHUSDT_ob500.txt\"\n",
    "output_file = \"/kaggle/working/2024-01-04_ETHUSDT_ob500.csv\"\n",
    "\n",
    "# Mở file .txt và chuyển đổi nội dung sang CSV\n",
    "with open(input_file, \"r\") as infile, open(output_file, \"w\", newline=\"\") as outfile:\n",
    "    writer = csv.writer(outfile)\n",
    "    \n",
    "    # Tiêu đề cột\n",
    "    writer.writerow([\"topic\", \"type\", \"timestamp\", \"symbol\", \"price\", \"size\", \"side\", \"u\", \"seq\", \"cts\"])\n",
    "    \n",
    "    # Xử lý từng dòng JSON trong file\n",
    "    for line in infile:\n",
    "        record = json.loads(line.strip())  # Chuyển JSON thành dict\n",
    "        topic = record[\"topic\"]\n",
    "        record_type = record[\"type\"]\n",
    "        timestamp = record[\"ts\"]\n",
    "        symbol = record[\"data\"][\"s\"]\n",
    "        u = record[\"data\"][\"u\"]\n",
    "        seq = record[\"data\"][\"seq\"]\n",
    "        cts = record[\"cts\"]\n",
    "\n",
    "        # Xử lý `bids`\n",
    "        for bid in record[\"data\"][\"b\"]:\n",
    "            writer.writerow([topic, record_type, timestamp, symbol, bid[0], bid[1], \"bid\", u, seq, cts])\n",
    "\n",
    "        # Xử lý `asks`\n",
    "        for ask in record[\"data\"][\"a\"]:\n",
    "            writer.writerow([topic, record_type, timestamp, symbol, ask[0], ask[1], \"ask\", u, seq, cts])\n",
    "\n",
    "print(f\"Chuyển đổi hoàn tất! File được lưu với tên '{output_file}'.\")"
   ]
  },
  {
   "cell_type": "code",
   "execution_count": null,
   "metadata": {
    "trusted": true
   },
   "outputs": [],
   "source": [
    "df = pd.read_csv('/kaggle/working/2024-01-04_ETHUSDT_ob500.csv')"
   ]
  },
  {
   "cell_type": "markdown",
   "metadata": {},
   "source": [
    "# Convert data "
   ]
  },
  {
   "cell_type": "code",
   "execution_count": null,
   "metadata": {
    "trusted": true
   },
   "outputs": [],
   "source": [
    "# Split data \n",
    "def find_index_at_half(df, colname):\n",
    "    \"\"\"splitting a DataFrame into two parts based on the cumulative distribution of a specified column's values\"\"\"\n",
    "    # Count the occurrences of each value in the specified column\n",
    "    value_counts = df[colname].value_counts()\n",
    "    \n",
    "    # Sort by index\n",
    "    sorted_counts = value_counts.sort_index()\n",
    "    \n",
    "    # Calculate the total count\n",
    "    total_count = sorted_counts.sum()\n",
    "    \n",
    "    # Calculate the cumulative sum\n",
    "    cumulative_counts = sorted_counts.cumsum()\n",
    "    \n",
    "    # Calculate half of the total count\n",
    "    half_total = total_count / 2\n",
    "    \n",
    "    # Find the index at half of the cumulative sum\n",
    "    value_at_half = cumulative_counts[cumulative_counts >= half_total].index[0]\n",
    "    index_at_half = df[df[colname] == value_at_half].index[0] - 1\n",
    "    return index_at_half \n",
    "\n",
    "index_at_half = find_index_at_half(df, 'timestamp')\n",
    "df1 = df.loc[:index_at_half]\n",
    "df2 = df.loc[index_at_half + 1:]\n",
    "\n",
    "df1.to_csv('/kaggle/working/2024-01-04_ETHUSDT_ob500_1.csv')\n",
    "df2.to_csv('/kaggle/working/2024-01-04_ETHUSDT_ob500_2.csv')"
   ]
  },
  {
   "cell_type": "code",
   "execution_count": null,
   "metadata": {
    "execution": {
     "iopub.execute_input": "2024-12-17T08:41:02.940869Z",
     "iopub.status.busy": "2024-12-17T08:41:02.939866Z",
     "iopub.status.idle": "2024-12-17T08:41:02.948573Z",
     "shell.execute_reply": "2024-12-17T08:41:02.947191Z",
     "shell.execute_reply.started": "2024-12-17T08:41:02.940768Z"
    },
    "trusted": true
   },
   "outputs": [],
   "source": [
    "def update_delta(current, deltas):\n",
    "    \"\"\"\n",
    "    Apply delta updates to the orderbook DataFrame sequentially by timestamp\n",
    "    \n",
    "    Parameters:\n",
    "    -----------\n",
    "    current : pd.DataFrame\n",
    "    Timestamp Group of Order Book with columns: topic, type, timestamp, symbol, price, size, side, u, seq, cts\n",
    "    \n",
    "    Returns:\n",
    "    --------\n",
    "    pd.DataFrame\n",
    "    Updated orderbook after processing all deltas\n",
    "    \"\"\"\n",
    "    \n",
    "    # Process each delta\n",
    "    for _, delta_row in deltas.iterrows():\n",
    "        # Find matching rows in the current state\n",
    "        mask = (\n",
    "            (current['price'] == delta_row['price']) & \n",
    "            (current['side'] == delta_row['side'])\n",
    "        )\n",
    "        \n",
    "        # Update or add new rows\n",
    "        if mask.any():\n",
    "            # Update existing row\n",
    "            current.loc[mask, 'size'] = delta_row['size']\n",
    "        else:\n",
    "            # Add new row if it doesn't exist\n",
    "            current = pd.concat([\n",
    "                current, \n",
    "                pd.DataFrame([delta_row])\n",
    "            ])\n",
    "    \n",
    "    # Remove rows with zero size\n",
    "    current = current[current['size'] > 0]\n",
    "    \n",
    "    return current.reset_index(drop=True)"
   ]
  },
  {
   "cell_type": "code",
   "execution_count": null,
   "metadata": {
    "trusted": true
   },
   "outputs": [],
   "source": [
    "def convert_to_orderbook(df, max_levels=5, seq_file=1):\n",
    "    \n",
    "    # Group by timestamp\n",
    "    timestamp_groups = df.groupby('timestamp')\n",
    "    \n",
    "    # Initialize results list\n",
    "    orderbooks = []\n",
    "\n",
    "    current_state = None\n",
    "    if seq_file == 2:\n",
    "        current_state = pd.read_csv('/kaggle/working/orderbook_2024_01_04_current_state.csv')\n",
    "        updated_type_col = ['snapshot'] * len(current_state['type'])\n",
    "        current_state['type'] = updated_type_col\n",
    "    \n",
    "    # Process each timestamp group\n",
    "    for timestamp, group in timestamp_groups:\n",
    "\n",
    "        # Separate and sort asks and bids\n",
    "        asks = group[group['side'] == 'ask']\n",
    "        bids = group[group['side'] == 'bid']\n",
    "         \n",
    "        # Prepare row for this timestamp\n",
    "        if asks.empty:\n",
    "            group_type = (bids['type'].values)[-1]\n",
    "        else:\n",
    "            group_type = (asks['type'].values)[-1]\n",
    "\n",
    "        if group_type == 'snapshot':\n",
    "            # Process snapshots first\n",
    "            current_state = group\n",
    "        elif group_type == 'delta':\n",
    "            if current_state.empty:\n",
    "                continue\n",
    "            group = update_delta(current_state, group)\n",
    "            current_state = group\n",
    "\n",
    "        updated_timestamp_col = [timestamp] * len(current_state['timestamp'])\n",
    "        current_state['timestamp'] = updated_timestamp_col\n",
    "\n",
    "        # Separate and sort asks and bids\n",
    "        asks = current_state[current_state['side'] == 'ask'].sort_values('price')\n",
    "        bids = current_state[current_state['side'] == 'bid'].sort_values('price', ascending=False)\n",
    "\n",
    "        row = [timestamp]\n",
    "        \n",
    "        # Add up to max_levels for both asks and bids\n",
    "        for level in range(max_levels):\n",
    "            # Ask price and size\n",
    "            if level < len(asks):\n",
    "                row.extend([\n",
    "                    asks['price'].iloc[level],  # Ask Price\n",
    "                    asks['size'].iloc[level]   # Ask Size\n",
    "                ])\n",
    "            else:\n",
    "                row.extend([0, 0])  # Pad with zeros if no more levels\n",
    "            \n",
    "            # Bid price and size\n",
    "            if level < len(bids):\n",
    "                row.extend([\n",
    "                    bids['price'].iloc[level],  # Bid Price\n",
    "                    bids['size'].iloc[level]   # Bid Size\n",
    "                ])\n",
    "            else:\n",
    "                row.extend([0, 0])  # Pad with zeros if no more levels\n",
    "        \n",
    "        orderbooks.append(row)\n",
    "\n",
    "    if seq_file == 1:\n",
    "        current_state.to_csv('/kaggle/working/orderbook_2024_01_04_current_state.csv')\n",
    "    \n",
    "    # Create column names\n",
    "    columns = ['timestamp']\n",
    "    for level in range(max_levels):\n",
    "        columns.extend([f'ask_price_{level+1}', f'ask_size_{level+1}'])\n",
    "        columns.extend([f'bid_price_{level+1}', f'bid_size_{level+1}'])\n",
    "    \n",
    "    # Convert to DataFrame for easy viewing/processing\n",
    "    return pd.DataFrame(orderbooks, columns=columns)"
   ]
  },
  {
   "cell_type": "code",
   "execution_count": null,
   "metadata": {
    "execution": {
     "iopub.execute_input": "2024-12-17T08:45:56.286182Z",
     "iopub.status.busy": "2024-12-17T08:45:56.285772Z"
    },
    "trusted": true
   },
   "outputs": [],
   "source": [
    "orderbook1 = convert_to_orderbook(df, max_levels=5, seq_file=1)"
   ]
  },
  {
   "cell_type": "code",
   "execution_count": null,
   "metadata": {
    "trusted": true
   },
   "outputs": [],
   "source": [
    "orderbook1"
   ]
  },
  {
   "cell_type": "code",
   "execution_count": null,
   "metadata": {
    "execution": {
     "iopub.execute_input": "2024-12-17T14:22:40.032081Z",
     "iopub.status.busy": "2024-12-17T14:22:40.031147Z",
     "iopub.status.idle": "2024-12-17T14:22:40.424178Z",
     "shell.execute_reply": "2024-12-17T14:22:40.422824Z",
     "shell.execute_reply.started": "2024-12-17T14:22:40.032002Z"
    },
    "trusted": true
   },
   "outputs": [],
   "source": [
    "orderbook1.to_csv('orderbook_2024_01_04_ETHUSDT_1.csv')"
   ]
  }
 ],
 "metadata": {
  "colab": {
   "provenance": []
  },
  "kaggle": {
   "accelerator": "none",
   "dataSources": [
    {
     "datasetId": 6283266,
     "sourceId": 10173382,
     "sourceType": "datasetVersion"
    }
   ],
   "dockerImageVersionId": 30804,
   "isGpuEnabled": false,
   "isInternetEnabled": false,
   "language": "python",
   "sourceType": "notebook"
  },
  "kernelspec": {
   "display_name": "Python 3",
   "language": "python",
   "name": "python3"
  },
  "language_info": {
   "codemirror_mode": {
    "name": "ipython",
    "version": 3
   },
   "file_extension": ".py",
   "mimetype": "text/x-python",
   "name": "python",
   "nbconvert_exporter": "python",
   "pygments_lexer": "ipython3",
   "version": "3.10.14"
  }
 },
 "nbformat": 4,
 "nbformat_minor": 4
}
